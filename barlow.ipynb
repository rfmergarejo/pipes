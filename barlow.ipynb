{
 "cells": [
  {
   "cell_type": "markdown",
   "metadata": {},
   "source": [
    "# Barlow's equation in conjungtion with the KAPA methods.\n",
    "\n",
    "The Barlow's equation is used for the compute the internal yield pressure in a tubular-thinned wall cylinder. "
   ]
  },
  {
   "cell_type": "markdown",
   "metadata": {},
   "source": [
    "## Barlow as a thick wall hoop stress\n",
    "\n",
    "Barlow's equation:\n",
    "$$ p_b = 2\\frac{\\sigma_y t}{D_0}$$\n",
    "dada"
   ]
  },
  {
   "cell_type": "code",
   "execution_count": 1,
   "metadata": {},
   "outputs": [],
   "source": [
    "import numpy as np"
   ]
  },
  {
   "cell_type": "markdown",
   "metadata": {},
   "source": [
    "## KAPA for a crack-like defect.\n",
    "\n",
    "The failure stress (in psi) computed through the KAPA method, is given by the following equation:\n",
    "\n",
    "$$ 3\\dfrac{\\pi \\epsilon (C_v/A_v)}{{\\bar\\sigma}^2L} = \\ln\\left[\\sec\\left( \\dfrac{\\pi}{2}\\dfrac{M_p\\sigma_p}{\\bar\\sigma}\\right) \\right] $$\n",
    "\n",
    "Where $C_v$ is the upper shelf Charpy V-notch impact energy (ft-lb) and $A_v$ is the area expressed in square inches. $\\epsilon$ is the elastic modulus (psi). $\\bar \\sigma$ flow stress (SMYS + 10 000 psi) (psi) and $\\sigma_p$ is the failure stress (psi). With $M_p$ is given by\n",
    "\n",
    "$$ M_p = \\dfrac{1-\\frac{A}{A_0}M_T^{-1}}{1-\\frac{A}{A_0}} $$ \n",
    "\n",
    "$M_T$ si given by:\n",
    "\n",
    "$$ M_T = \\begin{cases} \n",
    "\\sqrt{1 + 0.62756 \\frac{L^2}{Dt} - 0.003375 \\left(\\frac{L^2}{Dt}\\right)^2} & \\text{if} &L \\leq \\sqrt{50 Dt} \\\\ \n",
    "0.032 \\frac{L^2}{Dt} + 3.3 & \\text{if} &L>\\sqrt{50 Dt} \n",
    "\\end{cases} $$"
   ]
  },
  {
   "cell_type": "markdown",
   "metadata": {},
   "source": []
  }
 ],
 "metadata": {
  "interpreter": {
   "hash": "a7f94b1806a2d57dc0a4ad50442d47bc9a9e727c88a25f13e69ab9662a69ed44"
  },
  "kernelspec": {
   "display_name": "Python 3.10.0 64-bit",
   "language": "python",
   "name": "python3"
  },
  "language_info": {
   "codemirror_mode": {
    "name": "ipython",
    "version": 3
   },
   "file_extension": ".py",
   "mimetype": "text/x-python",
   "name": "python",
   "nbconvert_exporter": "python",
   "pygments_lexer": "ipython3",
   "version": "3.10.0"
  },
  "orig_nbformat": 4
 },
 "nbformat": 4,
 "nbformat_minor": 2
}
